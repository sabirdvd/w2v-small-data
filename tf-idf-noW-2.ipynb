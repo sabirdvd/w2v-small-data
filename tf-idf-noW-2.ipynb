{
 "cells": [
  {
   "cell_type": "markdown",
   "metadata": {},
   "source": [
    "## term  freq without W-2 "
   ]
  },
  {
   "cell_type": "code",
   "execution_count": 11,
   "metadata": {},
   "outputs": [],
   "source": [
    "corpus = ['rock cab',\n",
    "'ren cab',\n",
    "'us cab',\n",
    "'howagirepiguros.com wig',\n",
    "'stochost street',\n",
    "'skipholt street',\n",
    "'11.02.2010.v.m ski',\n",
    "'bansko ski',\n",
    "'2008 paddle',\n",
    "'gf paddle',\n",
    "'olivier trolleybus']"
   ]
  },
  {
   "cell_type": "code",
   "execution_count": 12,
   "metadata": {},
   "outputs": [],
   "source": [
    "import re, math\n",
    "from collections import Counter"
   ]
  },
  {
   "cell_type": "code",
   "execution_count": 178,
   "metadata": {},
   "outputs": [],
   "source": [
    "#example result\n",
    "#'kt racket' #Cosine: 0.207089994057\n",
    "#text2 = 'quarters parking' #Cosine: 0.0674108333676\n",
    "#text2 = '9 wall' #Cosine: 0.0437873375892\n",
    "#text2 = 'key monitor' #Cosine: 0.0106934758997\n",
    "#text2 =  'bike unicycle' Cosine: 0.0480158035495\n",
    "#text2 = 'delta airliner' #0.154670994549\n",
    "#text2 = ' cap street'"
   ]
  },
  {
   "cell_type": "code",
   "execution_count": 51,
   "metadata": {},
   "outputs": [],
   "source": [
    "#filename = '/home/asabir/Desktop/wordembddinh/80K-read-r1.txt'\n",
    "filename = '/home/asabir/Desktop/wordembddinh/80K-ready-small.txt'\n",
    "file = open(filename,'rt')\n",
    "text1 = file.read().decode('utf8') \n",
    "#print text1\n",
    "file.close()"
   ]
  },
  {
   "cell_type": "code",
   "execution_count": 62,
   "metadata": {},
   "outputs": [],
   "source": [
    "with open ('80k-test.txt') as f:\n",
    "    #text2 =f.read()  \n",
    "    for text2 in f:\n",
    "        #print text2\n",
    "        #if 'str' in line:\n",
    "        #    break\n",
    "        WORD = re.compile(r'\\w+')         "
   ]
  },
  {
   "cell_type": "code",
   "execution_count": 86,
   "metadata": {},
   "outputs": [],
   "source": [
    "        def get_cosine(vec1, vec2):\n",
    "             intersection = set(vec1.keys()) & set(vec2.keys())\n",
    "             numerator = sum([vec1[x] * vec2[x] for x in intersection])\n",
    "\n",
    "             sum1 = sum([vec1[x]**2 for x in vec1.keys()])\n",
    "             sum2 = sum([vec2[x]**2 for x in vec2.keys()])\n",
    "             denominator = math.sqrt(sum1) * math.sqrt(sum2)\n",
    "\n",
    "             if not denominator:\n",
    "                \n",
    "                return 0.0\n",
    "             else:\n",
    "                return float(numerator) / denominator\n",
    "\n",
    "        def text_to_vector(text):\n",
    "            #Gives non-overlapping matches of pattern in string\n",
    "            words = WORD.findall(text)\n",
    "            #print words\n",
    "            return Counter(words)\n",
    "\n",
    "\n",
    "        vector1 = text_to_vector(text1)\n",
    "        vector2 = text_to_vector(text2)\n",
    "        #print vector2\n",
    "    \n",
    "        #print text2\n",
    "        cosine = get_cosine(vector1, vector2)\n",
    "    \n",
    "    \n",
    "        #print 'Cosine:', cosine"
   ]
  },
  {
   "cell_type": "code",
   "execution_count": 68,
   "metadata": {},
   "outputs": [
    {
     "name": "stdout",
     "output_type": "stream",
     "text": [
      "Counter({'ia': 1, 'pay': 1, 'phone': 1})\n"
     ]
    }
   ],
   "source": [
    "print vector2"
   ]
  },
  {
   "cell_type": "code",
   "execution_count": 67,
   "metadata": {},
   "outputs": [
    {
     "name": "stdout",
     "output_type": "stream",
     "text": [
      "Counter({u'trolleybus': 9, u'cheetah': 5, u'tobacco': 5, u'medicine': 4, u'street': 3, u'cab': 3, u'candle': 2, u'paddle': 2, u'ski': 2, u'electric': 2, u'imaging': 2, u'allshots': 2, u'20': 2, u'mtr': 2, u'wig': 1, u'karsts': 1, u'coffee': 1, u'private': 1, u'gf': 1, u'bansko': 1, u'ia': 1, u'jordi': 1, u'baby': 1, u'25': 1, u'lt7': 1, u'no': 1, u'pay': 1, u'top': 1, u'ren': 1, u'barre': 1, u'verdugo': 1, u'racket': 1, u'11022010vm': 1, u'stochost': 1, u'skipholt': 1, u'bus': 1, u'rock': 1, u'stop': 1, u'victoria': 1, u'phone': 1, u'herrin': 1, u'howagirepiguroscom': 1, u'38': 1, u'trespass': 1, u'5303': 1, u'us': 1, u'olivier': 1, u'2008': 1, u'property': 1, u'arriva': 1})\n"
     ]
    }
   ],
   "source": [
    "print vector1"
   ]
  },
  {
   "cell_type": "code",
   "execution_count": 49,
   "metadata": {},
   "outputs": [
    {
     "name": "stdout",
     "output_type": "stream",
     "text": [
      "0.0112706492535\n"
     ]
    }
   ],
   "source": [
    "cosine = get_cosine(vector1, vector2)\n",
    "print cosine"
   ]
  },
  {
   "cell_type": "code",
   "execution_count": 106,
   "metadata": {},
   "outputs": [
    {
     "name": "stdout",
     "output_type": "stream",
     "text": [
      "['This', 'is', 'barcelona', 'the', 'city', 'or', 'barcelona', 'FC', 'not', 'sure', 'if', 'this', 'city', 'is', 'barcelona', 'again', 'not', 'sure', 'if', 'the', 'city', 'named', 'barcelona', 'not', 'FC', 'barcelona']\n"
     ]
    },
    {
     "data": {
      "text/plain": [
       "Counter({'FC': 2,\n",
       "         'This': 1,\n",
       "         'again': 1,\n",
       "         'barcelona': 5,\n",
       "         'city': 3,\n",
       "         'if': 2,\n",
       "         'is': 2,\n",
       "         'named': 1,\n",
       "         'not': 3,\n",
       "         'or': 1,\n",
       "         'sure': 2,\n",
       "         'the': 2,\n",
       "         'this': 1})"
      ]
     },
     "execution_count": 106,
     "metadata": {},
     "output_type": "execute_result"
    }
   ],
   "source": [
    "### just for exp\n",
    "import re\n",
    "text = 'This is barcelona the city or barcelona FC, not sure if this city is barcelona, again not sure if the city named barcelona not FC barcelona'\n",
    "text1 = 'This is madrid, what if madrid is city of madrid name barcelona, this is barcelona'\n",
    "WORD = re.compile(r'\\w+')\n",
    "words = WORD.findall(text)\n",
    "print words\n",
    "Counter(words)\n",
    "#def text_to_vector(text):\n",
    "            #Gives non-overlapping matches of pattern in string\n",
    " #           words = WORD.findall(text)\n",
    "            #print words\n",
    " #           return Counter(words)"
   ]
  },
  {
   "cell_type": "code",
   "execution_count": null,
   "metadata": {},
   "outputs": [],
   "source": []
  }
 ],
 "metadata": {
  "kernelspec": {
   "display_name": "Python 2",
   "language": "python",
   "name": "python2"
  },
  "language_info": {
   "codemirror_mode": {
    "name": "ipython",
    "version": 2
   },
   "file_extension": ".py",
   "mimetype": "text/x-python",
   "name": "python",
   "nbconvert_exporter": "python",
   "pygments_lexer": "ipython2",
   "version": "2.7.14"
  }
 },
 "nbformat": 4,
 "nbformat_minor": 2
}
