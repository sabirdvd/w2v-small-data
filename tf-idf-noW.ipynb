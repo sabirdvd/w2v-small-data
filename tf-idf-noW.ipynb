{
 "cells": [
  {
   "cell_type": "markdown",
   "metadata": {},
   "source": [
    "## tf-df without W"
   ]
  },
  {
   "cell_type": "code",
   "execution_count": 6,
   "metadata": {},
   "outputs": [],
   "source": [
    "corpus = ['rock cab',\n",
    "'ren cab',\n",
    "'us cab',\n",
    "'howagirepiguros.com wig',\n",
    "'stochost street',\n",
    "'skipholt street',\n",
    "'11.02.2010.v.m ski',\n",
    "'bansko ski',\n",
    "'2008 paddle',\n",
    "'gf paddle',\n",
    "'olivier trolleybus']"
   ]
  },
  {
   "cell_type": "code",
   "execution_count": 149,
   "metadata": {},
   "outputs": [],
   "source": [
    "import re, math\n",
    "from collections import Counter"
   ]
  },
  {
   "cell_type": "code",
   "execution_count": 178,
   "metadata": {},
   "outputs": [],
   "source": [
    "#example result\n",
    "#'kt racket' #Cosine: 0.207089994057\n",
    "#text2 = 'quarters parking' #Cosine: 0.0674108333676\n",
    "#text2 = '9 wall' #Cosine: 0.0437873375892\n",
    "#text2 = 'key monitor' #Cosine: 0.0106934758997\n",
    "#text2 =  'bike unicycle' Cosine: 0.0480158035495\n",
    "#text2 = 'delta airliner' #0.154670994549\n",
    "#text2 = ' cap street'"
   ]
  },
  {
   "cell_type": "code",
   "execution_count": 96,
   "metadata": {},
   "outputs": [],
   "source": [
    "filename = '80K-read-r1.txt'\n",
    "file = open(filename,'rt')\n",
    "text1 = file.read().decode('utf8') \n",
    "file.close()"
   ]
  },
  {
   "cell_type": "code",
   "execution_count": 177,
   "metadata": {},
   "outputs": [
    {
     "name": "stdout",
     "output_type": "stream",
     "text": [
      "rock cab\n",
      "\n",
      "Cosine: 0.0422846596033\n",
      "ren cab\n",
      "\n",
      "Cosine: 0.0414110096115\n",
      "us cab\n",
      "\n",
      "Cosine: 0.0465480715633\n",
      "howagirepiguros.com wig\n",
      "\n",
      "Cosine: 0.0479644592283\n",
      "stochost street\n",
      "\n",
      "Cosine: 0.36459161458\n",
      "skipholt street\n",
      "\n",
      "Cosine: 0.36459161458\n",
      "11.02.2010.v.m ski\n",
      "\n",
      "Cosine: 0.0980557600646\n",
      "bansko ski\n",
      "\n",
      "Cosine: 0.120808320867\n",
      "2008 paddle\n",
      "\n",
      "Cosine: 0.0192202998197\n",
      "gf paddle\n",
      "\n",
      "Cosine: 0.0166342958439\n",
      "olivier trolleybus\n",
      "\n",
      "Cosine: 0.182348226289\n",
      "victoria trolleybus\n",
      "\n",
      "Cosine: 0.181125116301\n",
      "arriva trolleybus\n",
      "\n",
      "Cosine: 0.182033712292\n",
      "38 trolleybus\n",
      "\n",
      "Cosine: 0.183466498279\n",
      "lt7 trolleybus\n",
      "\n",
      "Cosine: 0.180321358308\n",
      "ia pay-phone\n",
      "\n",
      "Cosine: 0.0112706492535\n"
     ]
    }
   ],
   "source": [
    "with open ('80k-test.txt') as f:\n",
    "    #text2 =f.read()  \n",
    "    for text2 in f:\n",
    "        print text2\n",
    "        if 'str' in line:\n",
    "            break\n",
    "        WORD = re.compile(r'\\w+')\n",
    "\n",
    "        def get_cosine(vec1, vec2):\n",
    "             intersection = set(vec1.keys()) & set(vec2.keys())\n",
    "             numerator = sum([vec1[x] * vec2[x] for x in intersection])\n",
    "\n",
    "             sum1 = sum([vec1[x]**2 for x in vec1.keys()])\n",
    "             sum2 = sum([vec2[x]**2 for x in vec2.keys()])\n",
    "             denominator = math.sqrt(sum1) * math.sqrt(sum2)\n",
    "\n",
    "             if not denominator:\n",
    "                \n",
    "                return 0.0\n",
    "             else:\n",
    "                return float(numerator) / denominator\n",
    "\n",
    "        def text_to_vector(text):\n",
    "            words = WORD.findall(text)\n",
    "            return Counter(words)\n",
    "\n",
    "\n",
    "        vector1 = text_to_vector(text1)\n",
    "        vector2 = text_to_vector(text2)\n",
    "    #print text1\n",
    "        #print text2\n",
    "        cosine = get_cosine(vector1, vector2)\n",
    "    \n",
    "    \n",
    "        print 'Cosine:', cosine"
   ]
  },
  {
   "cell_type": "code",
   "execution_count": null,
   "metadata": {},
   "outputs": [],
   "source": []
  }
 ],
 "metadata": {
  "kernelspec": {
   "display_name": "Python 2",
   "language": "python",
   "name": "python2"
  },
  "language_info": {
   "codemirror_mode": {
    "name": "ipython",
    "version": 2
   },
   "file_extension": ".py",
   "mimetype": "text/x-python",
   "name": "python",
   "nbconvert_exporter": "python",
   "pygments_lexer": "ipython2",
   "version": "2.7.14"
  }
 },
 "nbformat": 4,
 "nbformat_minor": 2
}
